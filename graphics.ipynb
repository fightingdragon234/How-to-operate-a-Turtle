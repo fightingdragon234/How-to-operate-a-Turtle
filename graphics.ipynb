{
 "cells": [
  {
   "cell_type": "code",
   "execution_count": 3,
   "metadata": {},
   "outputs": [],
   "source": [
    "import turtle"
   ]
  },
  {
   "cell_type": "code",
   "execution_count": 8,
   "metadata": {},
   "outputs": [
    {
     "ename": "Terminator",
     "evalue": "",
     "output_type": "error",
     "traceback": [
      "\u001b[0;31m---------------------------------------------------------------------------\u001b[0m",
      "\u001b[0;31mTerminator\u001b[0m                                Traceback (most recent call last)",
      "\u001b[0;32m<ipython-input-8-3440e75f2d1d>\u001b[0m in \u001b[0;36m<module>\u001b[0;34m\u001b[0m\n\u001b[1;32m     41\u001b[0m \u001b[0;32mwhile\u001b[0m \u001b[0;32mTrue\u001b[0m\u001b[0;34m:\u001b[0m\u001b[0;34m\u001b[0m\u001b[0;34m\u001b[0m\u001b[0m\n\u001b[1;32m     42\u001b[0m     \u001b[0mturtle\u001b[0m\u001b[0;34m.\u001b[0m\u001b[0mforward\u001b[0m\u001b[0;34m(\u001b[0m\u001b[0mspeed\u001b[0m\u001b[0;34m)\u001b[0m\u001b[0;34m\u001b[0m\u001b[0;34m\u001b[0m\u001b[0m\n\u001b[0;32m---> 43\u001b[0;31m     \u001b[0mw\u001b[0m\u001b[0;34m=\u001b[0m\u001b[0mturtle\u001b[0m\u001b[0;34m.\u001b[0m\u001b[0mpos\u001b[0m\u001b[0;34m(\u001b[0m\u001b[0;34m)\u001b[0m\u001b[0;34m[\u001b[0m\u001b[0;36m0\u001b[0m\u001b[0;34m]\u001b[0m\u001b[0;34m\u001b[0m\u001b[0;34m\u001b[0m\u001b[0m\n\u001b[0m\u001b[1;32m     44\u001b[0m     \u001b[0mh\u001b[0m\u001b[0;34m=\u001b[0m\u001b[0mturtle\u001b[0m\u001b[0;34m.\u001b[0m\u001b[0mpos\u001b[0m\u001b[0;34m(\u001b[0m\u001b[0;34m)\u001b[0m\u001b[0;34m[\u001b[0m\u001b[0;36m1\u001b[0m\u001b[0;34m]\u001b[0m\u001b[0;34m\u001b[0m\u001b[0;34m\u001b[0m\u001b[0m\n\u001b[1;32m     45\u001b[0m     \u001b[0;32mif\u001b[0m \u001b[0mw\u001b[0m\u001b[0;34m<\u001b[0m \u001b[0;34m-\u001b[0m\u001b[0;36m50\u001b[0m\u001b[0;34m:\u001b[0m\u001b[0;34m\u001b[0m\u001b[0;34m\u001b[0m\u001b[0m\n",
      "\u001b[0;32m/Library/Frameworks/Python.framework/Versions/3.7/lib/python3.7/turtle.py\u001b[0m in \u001b[0;36mpos\u001b[0;34m()\u001b[0m\n",
      "\u001b[0;31mTerminator\u001b[0m: "
     ]
    }
   ],
   "source": [
    "import turtle\n",
    "turtle.shape('turtle')\n",
    "turtle.forward(60)\n",
    "\n",
    "\n",
    "\n",
    "#Screen\n",
    "wn = turtle.Screen()\n",
    "wn.bgcolor(\"lightblue\")\n",
    "\n",
    "#Turtle Player\n",
    "turtle.color(\"blue\")\n",
    "\n",
    "#Constant\n",
    "speed = 1\n",
    "\n",
    "def up():\n",
    "    if turtle.heading() != 270:\n",
    "        turtle.setheading(90)\n",
    "    \n",
    "\n",
    "def down():\n",
    "    if turtle.heading() != 90:\n",
    "        turtle.setheading(270)\n",
    "    \n",
    "def left():\n",
    "    if turtle.heading() != 0:\n",
    "        turtle.setheading(180)\n",
    "    \n",
    "\n",
    "def right():\n",
    "    if turtle.heading() != 180:\n",
    "        turtle.setheading(0)\n",
    "\n",
    "wn.listen()\n",
    "wn.onkey(up, 'Up')\n",
    "wn.onkey(down, 'Down')\n",
    "wn.onkey(left, 'Left')\n",
    "wn.onkey(right, 'Right')\n",
    "\n",
    "while True:\n",
    "    turtle.forward(speed)\n",
    "    w=turtle.pos()[0]\n",
    "    h=turtle.pos()[1]\n",
    "    if w< -50:\n",
    "        turtle.setheading(0)\n",
    "    elif w> 50:\n",
    "        turtle.setheading(180)\n",
    "    if h< -50:\n",
    "        turtle.setheading(90)\n",
    "    elif h> 50:\n",
    "        turtle.setheading(270)"
   ]
  },
  {
   "cell_type": "code",
   "execution_count": 3,
   "metadata": {},
   "outputs": [
    {
     "data": {
      "text/plain": [
       "60.0"
      ]
     },
     "execution_count": 3,
     "metadata": {},
     "output_type": "execute_result"
    }
   ],
   "source": [
    "h"
   ]
  },
  {
   "cell_type": "code",
   "execution_count": 4,
   "metadata": {},
   "outputs": [],
   "source": [
    "turtle.shape('turtle')\n",
    "turtle.penup()\n",
    "turtle.forward(90)\n",
    "turtle.Screen().bgcolor('yellow')\n",
    "turtle.color('green')\n",
    "turtle.stamp()\n",
    "\n",
    "turtle.done()"
   ]
  },
  {
   "cell_type": "code",
   "execution_count": null,
   "metadata": {},
   "outputs": [],
   "source": []
  }
 ],
 "metadata": {
  "kernelspec": {
   "display_name": "Python 3",
   "language": "python",
   "name": "python3"
  },
  "language_info": {
   "codemirror_mode": {
    "name": "ipython",
    "version": 3
   },
   "file_extension": ".py",
   "mimetype": "text/x-python",
   "name": "python",
   "nbconvert_exporter": "python",
   "pygments_lexer": "ipython3",
   "version": "3.7.9"
  }
 },
 "nbformat": 4,
 "nbformat_minor": 1
}
